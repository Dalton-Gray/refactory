{
 "cells": [
  {
   "attachments": {},
   "cell_type": "markdown",
   "metadata": {},
   "source": [
    "# cli\n",
    "\n",
    "> Fill in a module description here"
   ]
  },
  {
   "cell_type": "code",
   "execution_count": 1,
   "metadata": {},
   "outputs": [],
   "source": [
    "#| default_exp cli"
   ]
  },
  {
   "cell_type": "code",
   "execution_count": 2,
   "metadata": {},
   "outputs": [],
   "source": [
    "#| hide\n",
    "from nbdev.showdoc import *"
   ]
  },
  {
   "cell_type": "code",
   "execution_count": 3,
   "metadata": {},
   "outputs": [],
   "source": [
    "#| export\n",
    "def foo(): pass"
   ]
  },
  {
   "cell_type": "code",
   "execution_count": 4,
   "metadata": {},
   "outputs": [],
   "source": [
    "#| hide\n",
    "import nbdev; nbdev.nbdev_export()"
   ]
  },
  {
   "cell_type": "code",
   "execution_count": 34,
   "metadata": {},
   "outputs": [],
   "source": [
    "#| export\n",
    "import openai\n",
    "import click\n",
    "from refactory.openai_api import *\n",
    "from refactory.operations import *"
   ]
  },
  {
   "attachments": {},
   "cell_type": "markdown",
   "metadata": {},
   "source": [
    "# import previous nbs"
   ]
  },
  {
   "attachments": {},
   "cell_type": "markdown",
   "metadata": {},
   "source": [
    "1. refactory --clean_code (maybe call it refactory --readability)\n",
    "2. refactory --bigO\n",
    "3. refactory --runtime \n",
    "4. refactory --bugs "
   ]
  },
  {
   "cell_type": "code",
   "execution_count": 20,
   "metadata": {},
   "outputs": [],
   "source": [
    "#| export\n",
    "OPERATIONS = {\n",
    "    'r': 'runtime',\n",
    "    'c': 'clean_code',\n",
    "    'o': 'big_o',\n",
    "    'b': 'bugs'\n",
    "}"
   ]
  },
  {
   "cell_type": "code",
   "execution_count": 7,
   "metadata": {},
   "outputs": [],
   "source": [
    "#| export\n",
    "def refactor_file(raw_file_location):\n",
    "    try:\n",
    "        filename = raw_file_location #if \n",
    "    except FileNotFoundError:\n",
    "        print(f\"File {raw_file_location} does not exist\")\n",
    "    "
   ]
  },
  {
   "cell_type": "code",
   "execution_count": 45,
   "metadata": {},
   "outputs": [],
   "source": [
    "#| export\n",
    "@click.command()\n",
    "@click.argument('operation', type=click.Choice(OPERATIONS.keys()), default='r')\n",
    "@click.argument('filein', type=click.Path(exists=True), required=1)\n",
    "@click.argument('fileout', type=click.Path(exists=False), required=1)\n",
    "@click.argument('key', required=1)\n",
    "# @click.option('--refactor', prompt=\"Select an operation\", help='A command for refactoring your code. Defaults to runtime optimization')\n",
    "def refactor(operation:str, filein:str, fileout:str, key:str):\n",
    "    # openai.api_key = load_api_key()\n",
    "    openai.api_key = key\n",
    "    raw_file = read_file(filein)\n",
    "    optimized_file = optimization(raw_file, operation)\n",
    "    write_file(optimized_file, fileout) \n",
    "    click.echo('file optimized!')"
   ]
  },
  {
   "cell_type": "code",
   "execution_count": 43,
   "metadata": {},
   "outputs": [],
   "source": [
    "def refactor(operation:str, filein:str, fileout:str):\n",
    "    openai.api_key = load_api_key()\n",
    "    raw_file = read_file(filein)\n",
    "    optimized_file = optimization(raw_file, operation)\n",
    "    write_file(optimized_file, fileout) \n",
    "    click.echo('file optimized!')"
   ]
  },
  {
   "cell_type": "code",
   "execution_count": 44,
   "metadata": {},
   "outputs": [
    {
     "name": "stdout",
     "output_type": "stream",
     "text": [
      "file optimized!\n"
     ]
    }
   ],
   "source": [
    "refactor('r', '../pandas_file.py', '../notebook_test.py')"
   ]
  },
  {
   "cell_type": "code",
   "execution_count": 26,
   "metadata": {},
   "outputs": [],
   "source": [
    "#| export\n",
    "@click.group\n",
    "def commands():\n",
    "    pass\n"
   ]
  },
  {
   "cell_type": "code",
   "execution_count": 27,
   "metadata": {},
   "outputs": [],
   "source": [
    "#| export\n",
    "commands.add_command(refactor)"
   ]
  },
  {
   "cell_type": "code",
   "execution_count": null,
   "metadata": {},
   "outputs": [],
   "source": [
    "#| export\n",
    "if __name__ == '__main__':\n",
    "    commands()"
   ]
  }
 ],
 "metadata": {
  "kernelspec": {
   "display_name": "python3",
   "language": "python",
   "name": "python3"
  },
  "language_info": {
   "codemirror_mode": {
    "name": "ipython",
    "version": 3
   },
   "file_extension": ".py",
   "mimetype": "text/x-python",
   "name": "python",
   "nbconvert_exporter": "python",
   "pygments_lexer": "ipython3",
   "version": "3.11.3"
  }
 },
 "nbformat": 4,
 "nbformat_minor": 4
}
