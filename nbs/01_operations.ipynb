{
 "cells": [
  {
   "attachments": {},
   "cell_type": "markdown",
   "metadata": {},
   "source": [
    "# operations\n",
    "\n",
    "> Fill in a module description here"
   ]
  },
  {
   "cell_type": "code",
   "execution_count": 1,
   "metadata": {},
   "outputs": [],
   "source": [
    "#| default_exp operations"
   ]
  },
  {
   "cell_type": "code",
   "execution_count": 2,
   "metadata": {},
   "outputs": [],
   "source": [
    "#| hide\n",
    "from nbdev.showdoc import *"
   ]
  },
  {
   "cell_type": "code",
   "execution_count": 3,
   "metadata": {},
   "outputs": [],
   "source": [
    "#| hide\n",
    "import nbdev; nbdev.nbdev_export()"
   ]
  },
  {
   "cell_type": "code",
   "execution_count": 4,
   "metadata": {},
   "outputs": [],
   "source": [
    "#| export\n",
    "from refactory.openai_api import *\n",
    "import openai"
   ]
  },
  {
   "cell_type": "code",
   "execution_count": 5,
   "metadata": {},
   "outputs": [
    {
     "data": {
      "text/plain": [
       "\"\\nprompt bank:\\n\\n# 3 optimizations list : 'List the 3 most important optimizations. Favour optimizations that are easy to read and maintain. Respond with a numbered list of 3 items. Less than 20 words per item'\\n'Using only the packages that are already installed, list the most important optimization. Favour optimizations that are easy to read and maintain. In 30 words or less list practical steps to implement the optimization'\\n\""
      ]
     },
     "execution_count": 5,
     "metadata": {},
     "output_type": "execute_result"
    }
   ],
   "source": [
    "'''\n",
    "prompt bank:\n",
    "\n",
    "# 3 optimizations list : 'List the 3 most important optimizations. Favour optimizations that are easy to read and maintain. Respond with a numbered list of 3 items. Less than 20 words per item'\n",
    "'Using only the packages that are already installed, list the most important optimization. Favour optimizations that are easy to read and maintain. In 30 words or less list practical steps to implement the optimization'\n",
    "'''"
   ]
  },
  {
   "cell_type": "code",
   "execution_count": 18,
   "metadata": {},
   "outputs": [],
   "source": [
    "def optimization(raw_file:str, metric:str) -> str:\n",
    "    chat_response = openai_chat(f'Optimize this code with regard to the following metric: {metric}. Only include code in your response', raw_file)\n",
    "    optimized_code = chat_response.choices[0].message.content\n",
    "    return optimized_code"
   ]
  },
  {
   "cell_type": "code",
   "execution_count": 35,
   "metadata": {},
   "outputs": [],
   "source": [
    "#| export\n",
    "# Readability & maintainability\n",
    "def clean_code(python_file:str) -> str:\n",
    "    return optimization(python_file, metric='clean code')"
   ]
  },
  {
   "cell_type": "code",
   "execution_count": 32,
   "metadata": {},
   "outputs": [
    {
     "data": {
      "text/plain": [
       "\"clean code as defined in Bob Martin's book of the same name\""
      ]
     },
     "execution_count": 32,
     "metadata": {},
     "output_type": "execute_result"
    }
   ],
   "source": [
    "'clean code as defined in Bob Martin\\'s book of the same name'"
   ]
  },
  {
   "cell_type": "code",
   "execution_count": 20,
   "metadata": {},
   "outputs": [],
   "source": [
    "#| export\n",
    "def big_o(python_file:str):\n",
    "    return optimization(python_file, metric='big O space and time complexity')"
   ]
  },
  {
   "cell_type": "code",
   "execution_count": 21,
   "metadata": {},
   "outputs": [],
   "source": [
    "#| export\n",
    "def runtime(python_file:str):\n",
    "    return optimization(python_file, metric='runtime')"
   ]
  },
  {
   "cell_type": "code",
   "execution_count": 22,
   "metadata": {},
   "outputs": [],
   "source": [
    "#| export\n",
    "def bugs(python_file:str):\n",
    "    return optimization(python_file, metric='bugs') "
   ]
  },
  {
   "cell_type": "code",
   "execution_count": 23,
   "metadata": {},
   "outputs": [],
   "source": [
    "# 1. load api key\n",
    "openai.api_key = load_api_key()\n",
    "# 2. load file to be processed\n",
    "raw_file = read_file('../pandas_file.py')"
   ]
  },
  {
   "cell_type": "code",
   "execution_count": 34,
   "metadata": {},
   "outputs": [],
   "source": [
    "# 3. process file\n",
    "optimized_code = clean_code(raw_file)\n",
    "# 4. write processed file to disk\n",
    "write_file(optimized_code, '../clean_code.py')"
   ]
  }
 ],
 "metadata": {
  "kernelspec": {
   "display_name": "python3",
   "language": "python",
   "name": "python3"
  },
  "language_info": {
   "codemirror_mode": {
    "name": "ipython",
    "version": 3
   },
   "file_extension": ".py",
   "mimetype": "text/x-python",
   "name": "python",
   "nbconvert_exporter": "python",
   "pygments_lexer": "ipython3",
   "version": "3.11.3"
  }
 },
 "nbformat": 4,
 "nbformat_minor": 4
}
