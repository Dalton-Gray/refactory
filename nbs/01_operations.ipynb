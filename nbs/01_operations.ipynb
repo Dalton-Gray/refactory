{
 "cells": [
  {
   "attachments": {},
   "cell_type": "markdown",
   "metadata": {},
   "source": [
    "# operations\n",
    "\n",
    "> Fill in a module description here"
   ]
  },
  {
   "cell_type": "code",
   "execution_count": 1,
   "metadata": {},
   "outputs": [],
   "source": [
    "#| default_exp operations"
   ]
  },
  {
   "cell_type": "code",
   "execution_count": 2,
   "metadata": {},
   "outputs": [],
   "source": [
    "#| hide\n",
    "from nbdev.showdoc import *"
   ]
  },
  {
   "cell_type": "code",
   "execution_count": 3,
   "metadata": {},
   "outputs": [],
   "source": [
    "#| hide\n",
    "import nbdev; nbdev.nbdev_export()"
   ]
  },
  {
   "cell_type": "code",
   "execution_count": 6,
   "metadata": {},
   "outputs": [],
   "source": [
    "#| export\n",
    "from refactory.openai_api import *\n",
    "import openai"
   ]
  },
  {
   "cell_type": "code",
   "execution_count": 13,
   "metadata": {},
   "outputs": [
    {
     "data": {
      "text/plain": [
       "\"\\nprompt bank:\\n\\n# 3 optimizations list : 'List the 3 most important optimizations. Favour optimizations that are easy to read and maintain. Respond with a numbered list of 3 items. Less than 20 words per item'\\n\\n\""
      ]
     },
     "execution_count": 13,
     "metadata": {},
     "output_type": "execute_result"
    }
   ],
   "source": [
    "'''\n",
    "prompt bank:\n",
    "\n",
    "# 3 optimizations list : 'List the 3 most important optimizations. Favour optimizations that are easy to read and maintain. Respond with a numbered list of 3 items. Less than 20 words per item'\n",
    "\n",
    "'''"
   ]
  },
  {
   "cell_type": "code",
   "execution_count": 9,
   "metadata": {},
   "outputs": [],
   "source": [
    "# 1. load api key\n",
    "openai.api_key = load_api_key()\n",
    "# 2. load file to be processed\n",
    "raw_file = read_file('../pandas_file.py')"
   ]
  },
  {
   "cell_type": "code",
   "execution_count": 66,
   "metadata": {},
   "outputs": [],
   "source": [
    "processed_file = optimization(raw_file)"
   ]
  },
  {
   "cell_type": "code",
   "execution_count": 67,
   "metadata": {},
   "outputs": [
    {
     "name": "stdout",
     "output_type": "stream",
     "text": [
      "import pandas as pd\n",
      "import numpy as np\n",
      "\n",
      "import time\n",
      "start = time.time()\n",
      "# Set the random seed for reproducibility\n",
      "np.random.seed(42)\n",
      "\n",
      "# Create a DataFrame with random values\n",
      "df = pd.DataFrame(np.random.randn(1000000, 5), columns=['A', 'B', 'C', 'D', 'E'])\n",
      "\n",
      "# Add 10 to every row of the DataFrame\n",
      "df = df + 10\n",
      "\n",
      "print(df)\n",
      "end = time.time()\n",
      "print(end - start)\n",
      "\n"
     ]
    }
   ],
   "source": [
    "print(processed_file)"
   ]
  },
  {
   "cell_type": "code",
   "execution_count": 58,
   "metadata": {},
   "outputs": [],
   "source": [
    "#5. write processed file to disk\n",
    "write_file(processed_file, '../big_o.py')"
   ]
  },
  {
   "cell_type": "code",
   "execution_count": 60,
   "metadata": {},
   "outputs": [],
   "source": [
    "def optimization(raw_file:str) -> str:\n",
    "    # 1. get suggested code improvement\n",
    "    chat_response = openai_chat('Using only the packages that are already installed, list the most important optimization. Favour optimizations that are easy to read and maintain. In 30 words or less list practical steps to implement the optimization', raw_file)\n",
    "    improvements = chat_response.choices[0].message.content\n",
    "    # 3. apply suggested improvement\n",
    "    edit_response = openai_edit(f'apply the following improvements to the code\\n: {improvements}', raw_file)\n",
    "    processed_file = edit_response.choices[0].text\n",
    "    return processed_file"
   ]
  },
  {
   "cell_type": "code",
   "execution_count": null,
   "metadata": {},
   "outputs": [],
   "source": [
    "#| export\n",
    "# Readability & maintainability\n",
    "def clean_code(python_file:str) -> str:\n",
    "    return clean_code"
   ]
  },
  {
   "cell_type": "code",
   "execution_count": null,
   "metadata": {},
   "outputs": [],
   "source": [
    "#| export\n",
    "def big_o():\n",
    "    pass"
   ]
  },
  {
   "cell_type": "code",
   "execution_count": null,
   "metadata": {},
   "outputs": [],
   "source": [
    "#| export\n",
    "def runtime():\n",
    "    pass"
   ]
  },
  {
   "cell_type": "code",
   "execution_count": null,
   "metadata": {},
   "outputs": [],
   "source": [
    "#| export\n",
    "def bugs():\n",
    "    pass "
   ]
  },
  {
   "cell_type": "code",
   "execution_count": null,
   "metadata": {},
   "outputs": [],
   "source": []
  }
 ],
 "metadata": {
  "kernelspec": {
   "display_name": "python3",
   "language": "python",
   "name": "python3"
  },
  "language_info": {
   "codemirror_mode": {
    "name": "ipython",
    "version": 3
   },
   "file_extension": ".py",
   "mimetype": "text/x-python",
   "name": "python",
   "nbconvert_exporter": "python",
   "pygments_lexer": "ipython3",
   "version": "3.11.3"
  }
 },
 "nbformat": 4,
 "nbformat_minor": 4
}
