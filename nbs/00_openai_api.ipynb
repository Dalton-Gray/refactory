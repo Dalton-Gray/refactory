{
 "cells": [
  {
   "attachments": {},
   "cell_type": "markdown",
   "metadata": {},
   "source": [
    "# openai_api\n",
    "\n",
    "> Fill in a module description here"
   ]
  },
  {
   "cell_type": "code",
   "execution_count": 33,
   "metadata": {},
   "outputs": [],
   "source": [
    "#| default_exp openai_api"
   ]
  },
  {
   "cell_type": "code",
   "execution_count": 34,
   "metadata": {},
   "outputs": [],
   "source": [
    "#| hide\n",
    "from nbdev.showdoc import *"
   ]
  },
  {
   "cell_type": "code",
   "execution_count": 36,
   "metadata": {},
   "outputs": [],
   "source": [
    "#| hide\n",
    "import nbdev; nbdev.nbdev_export()"
   ]
  },
  {
   "cell_type": "code",
   "execution_count": 37,
   "metadata": {},
   "outputs": [],
   "source": [
    "#| hide\n",
    "import openai\n",
    "import os \n",
    "from dotenv import load_dotenv\n",
    "from pathlib import Path"
   ]
  },
  {
   "cell_type": "code",
   "execution_count": 125,
   "metadata": {},
   "outputs": [],
   "source": [
    "#| export\n",
    "def load_api_key(path:str = '../../.env') -> str:\n",
    "    dotenv_path = Path(path)\n",
    "    load_dotenv(dotenv_path)\n",
    "    API_KEY = os.getenv('API_KEY')  \n",
    "    return API_KEY"
   ]
  },
  {
   "cell_type": "code",
   "execution_count": 114,
   "metadata": {},
   "outputs": [],
   "source": [
    "#| export\n",
    "# each dict contains two key value pairs\n",
    "# 1. \"role\" : value\n",
    "# 2. \"content\": value\n",
    "# You can add additional dics in this format to increase the length of the message histroy\n",
    "def openai_chat(file_content:str, model:str = 'gpt-3.5-turbo') -> dict:\n",
    "    response = openai.ChatCompletion.create(\n",
    "        model=model,\n",
    "        messages=[\n",
    "            {\"role\": \"user\",\n",
    "            \"content\": f'{file_content} Rewrite this code using pandas vectorization. Respond only with Python code. No explanation or words'},\n",
    "        ])\n",
    "    return response"
   ]
  },
  {
   "cell_type": "code",
   "execution_count": 115,
   "metadata": {},
   "outputs": [],
   "source": [
    "#| export\n",
    "def openai_edit(file_content:str, model:str = 'code-davinci-edit-001') -> dict:\n",
    "    response = openai.Edit.create(model=model,\n",
    "                                 input= file_content,\n",
    "                                 instruction = \"vectorize the pandas code\")\n",
    "    return response"
   ]
  },
  {
   "cell_type": "code",
   "execution_count": 107,
   "metadata": {},
   "outputs": [],
   "source": [
    "#| export\n",
    "def write_file(in_str, out_path) -> None:\n",
    "    with open(out_path, 'w') as python_file:\n",
    "        python_file.write(in_str)\n",
    "\n",
    "def read_file(file_path) -> str:\n",
    "    with open(file_path) as str_file:\n",
    "        str_file = str_file.read()\n",
    "    return str_file"
   ]
  },
  {
   "cell_type": "code",
   "execution_count": 126,
   "metadata": {},
   "outputs": [],
   "source": [
    "# 1. load api key\n",
    "openai.api_key = load_api_key()"
   ]
  },
  {
   "cell_type": "code",
   "execution_count": 127,
   "metadata": {},
   "outputs": [],
   "source": [
    "# 2. load file to be processed\n",
    "raw_file = read_file('../pandas_file.py')"
   ]
  },
  {
   "cell_type": "code",
   "execution_count": 128,
   "metadata": {},
   "outputs": [],
   "source": [
    "#3. process the file \n",
    "response = openai_edit(raw_file)"
   ]
  },
  {
   "cell_type": "code",
   "execution_count": 129,
   "metadata": {},
   "outputs": [],
   "source": [
    "#4. get processed file from response\n",
    "processed_file = response.choices[0].text"
   ]
  },
  {
   "cell_type": "code",
   "execution_count": 132,
   "metadata": {},
   "outputs": [
    {
     "data": {
      "text/plain": [
       "\"import pandas as pd\\nimport numpy as np\\n\\nimport time\\nstart = time.time()\\n# Set the random seed for reproducibility\\nnp.random.seed(42)\\n\\n# Create a DataFrame with random values\\ndf = pd.DataFrame(np.random.randn(1000000, 5), columns=['A', 'B', 'C', 'D', 'E'])\\n\\n# # Iterate through the DataFrame and add 10 to each row of each column\\n# t = time.time()\\n# for index, row in df.iterrows():\\n#     df.loc[index] = row + 10\\n# end = time.time()\\n# print(end - t)\\n\\nprint(df)\\nend = time.time()\\nprint(end - start)\\n\""
      ]
     },
     "execution_count": 132,
     "metadata": {},
     "output_type": "execute_result"
    }
   ],
   "source": [
    "processed_file"
   ]
  },
  {
   "cell_type": "code",
   "execution_count": 133,
   "metadata": {},
   "outputs": [],
   "source": [
    "#5. write processed file to disk\n",
    "write_file(processed_file, '../edit.py')"
   ]
  }
 ],
 "metadata": {
  "kernelspec": {
   "display_name": "python3",
   "language": "python",
   "name": "python3"
  },
  "language_info": {
   "codemirror_mode": {
    "name": "ipython",
    "version": 3
   },
   "file_extension": ".py",
   "mimetype": "text/x-python",
   "name": "python",
   "nbconvert_exporter": "python",
   "pygments_lexer": "ipython3",
   "version": "3.11.3"
  }
 },
 "nbformat": 4,
 "nbformat_minor": 4
}
