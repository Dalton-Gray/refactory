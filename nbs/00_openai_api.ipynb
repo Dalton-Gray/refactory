{
 "cells": [
  {
   "attachments": {},
   "cell_type": "markdown",
   "metadata": {},
   "source": [
    "# openai_api\n",
    "\n",
    "> Fill in a module description here"
   ]
  },
  {
   "cell_type": "code",
   "execution_count": 1,
   "metadata": {},
   "outputs": [],
   "source": [
    "#| default_exp openai_api"
   ]
  },
  {
   "cell_type": "code",
   "execution_count": 2,
   "metadata": {},
   "outputs": [],
   "source": [
    "#| hide\n",
    "from nbdev.showdoc import *"
   ]
  },
  {
   "cell_type": "code",
   "execution_count": 3,
   "metadata": {},
   "outputs": [],
   "source": [
    "#| hide\n",
    "import nbdev; nbdev.nbdev_export()"
   ]
  },
  {
   "cell_type": "code",
   "execution_count": 16,
   "metadata": {},
   "outputs": [],
   "source": [
    "#| export\n",
    "import openai\n",
    "import os \n",
    "from dotenv import load_dotenv\n",
    "from pathlib import Path"
   ]
  },
  {
   "cell_type": "code",
   "execution_count": 5,
   "metadata": {},
   "outputs": [],
   "source": [
    "#| export\n",
    "def load_api_key(path:str = '../../.env') -> str:\n",
    "    dotenv_path = Path(path)\n",
    "    load_dotenv(dotenv_path)\n",
    "    API_KEY = os.getenv('API_KEY')  \n",
    "    return API_KEY"
   ]
  },
  {
   "cell_type": "code",
   "execution_count": 29,
   "metadata": {},
   "outputs": [],
   "source": [
    "#| export\n",
    "# each dict contains two key value pairs\n",
    "# 1. \"role\" : value\n",
    "# 2. \"content\": value\n",
    "# You can add additional dics in this format to increase the length of the message histroy\n",
    "# example prompt: Rewrite this code using pandas vectorization. Respond only with Python code. No explanation or words'\n",
    "def openai_chat(prompt:str, file_content:str, model:str = 'gpt-3.5-turbo') -> dict:\n",
    "    response = openai.ChatCompletion.create(\n",
    "        model=model,\n",
    "        messages=[\n",
    "            {\"role\": \"user\",\n",
    "            \"content\": f'{file_content} {prompt}'},\n",
    "        ])\n",
    "    return response"
   ]
  },
  {
   "cell_type": "code",
   "execution_count": 27,
   "metadata": {},
   "outputs": [],
   "source": [
    "#| export\n",
    "def openai_edit(prompt:str, file_content:str, model:str = 'code-davinci-edit-001') -> dict:\n",
    "    response = openai.Edit.create(model=model,\n",
    "                                 input= file_content,\n",
    "                                 instruction = prompt)\n",
    "    return response"
   ]
  },
  {
   "cell_type": "code",
   "execution_count": 8,
   "metadata": {},
   "outputs": [],
   "source": [
    "#| export\n",
    "def write_file(in_str, out_path) -> None:\n",
    "    with open(out_path, 'w') as python_file:\n",
    "        python_file.write(in_str)\n",
    "\n",
    "def read_file(file_path) -> str:\n",
    "    with open(file_path) as str_file:\n",
    "        str_file = str_file.read()\n",
    "    return str_file"
   ]
  },
  {
   "cell_type": "code",
   "execution_count": 9,
   "metadata": {},
   "outputs": [],
   "source": [
    "# 1. load api key\n",
    "openai.api_key = load_api_key()"
   ]
  },
  {
   "cell_type": "code",
   "execution_count": 10,
   "metadata": {},
   "outputs": [],
   "source": [
    "# 2. load file to be processed\n",
    "raw_file = read_file('../pandas_file.py')"
   ]
  },
  {
   "cell_type": "code",
   "execution_count": 188,
   "metadata": {},
   "outputs": [],
   "source": []
  },
  {
   "cell_type": "code",
   "execution_count": 189,
   "metadata": {},
   "outputs": [
    {
     "name": "stdout",
     "output_type": "stream",
     "text": [
      "1. Use vectorized operations.\n",
      "2. Avoid unnecessary iterations.\n",
      "3. Utilize specialized functions when available.\n",
      "4. Minimize data copying and conversion.\n",
      "5. Optimize memory usage.\n"
     ]
    }
   ],
   "source": [
    "print(improvements)"
   ]
  },
  {
   "cell_type": "code",
   "execution_count": 190,
   "metadata": {},
   "outputs": [],
   "source": [
    "#3. process the file \n",
    "edit_response = openai_edit(f'Maintain original inputs and outputs and apply the following optimizations {improvements}', raw_file)"
   ]
  },
  {
   "cell_type": "code",
   "execution_count": 191,
   "metadata": {},
   "outputs": [],
   "source": [
    "#4. get processed file from response\n",
    "processed_file = edit_response.choices[0].text"
   ]
  },
  {
   "cell_type": "code",
   "execution_count": 192,
   "metadata": {},
   "outputs": [
    {
     "name": "stdout",
     "output_type": "stream",
     "text": [
      "import pandas as pd\n",
      "import numpy as np\n",
      "\n",
      "import time\n",
      "start = time.time()\n",
      "# Set the random seed for reproducibility\n",
      "np.random.seed(42)\n",
      "\n",
      "# Create a DataFrame with random values\n",
      "df = pd.DataFrame(np.random.randn(1000000, 5), columns=['A', 'B', 'C', 'D', 'E'])\n",
      "\n",
      "print(df.loc[df['A'] > 0, 'E'][::2])\n",
      "\n",
      "end = time.time()\n",
      "print(end - start)\n",
      "\n"
     ]
    }
   ],
   "source": [
    "print(processed_file)"
   ]
  },
  {
   "cell_type": "code",
   "execution_count": 193,
   "metadata": {},
   "outputs": [],
   "source": [
    "#5. write processed file to disk\n",
    "write_file(processed_file, '../big_o.py')"
   ]
  },
  {
   "cell_type": "code",
   "execution_count": 194,
   "metadata": {},
   "outputs": [
    {
     "name": "stdout",
     "output_type": "stream",
     "text": [
      "1. Use vectorized operations.\n",
      "2. Avoid unnecessary iterations.\n",
      "3. Utilize specialized functions when available.\n",
      "4. Minimize data copying and conversion.\n",
      "5. Optimize memory usage.\n"
     ]
    }
   ],
   "source": [
    "print(improvements)"
   ]
  },
  {
   "cell_type": "code",
   "execution_count": null,
   "metadata": {},
   "outputs": [],
   "source": []
  }
 ],
 "metadata": {
  "kernelspec": {
   "display_name": "python3",
   "language": "python",
   "name": "python3"
  },
  "language_info": {
   "codemirror_mode": {
    "name": "ipython",
    "version": 3
   },
   "file_extension": ".py",
   "mimetype": "text/x-python",
   "name": "python",
   "nbconvert_exporter": "python",
   "pygments_lexer": "ipython3",
   "version": "3.11.3"
  }
 },
 "nbformat": 4,
 "nbformat_minor": 4
}
