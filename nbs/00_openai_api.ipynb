{
 "cells": [
  {
   "attachments": {},
   "cell_type": "markdown",
   "metadata": {},
   "source": [
    "# openai_api\n",
    "\n",
    "> Fill in a module description here"
   ]
  },
  {
   "cell_type": "code",
   "execution_count": 1,
   "metadata": {},
   "outputs": [],
   "source": [
    "#| default_exp openai_api"
   ]
  },
  {
   "cell_type": "code",
   "execution_count": 2,
   "metadata": {},
   "outputs": [],
   "source": [
    "#| hide\n",
    "from nbdev.showdoc import *"
   ]
  },
  {
   "cell_type": "code",
   "execution_count": 3,
   "metadata": {},
   "outputs": [],
   "source": [
    "#| export\n",
    "def foo(): pass"
   ]
  },
  {
   "cell_type": "code",
   "execution_count": 4,
   "metadata": {},
   "outputs": [],
   "source": [
    "#| hide\n",
    "import nbdev; nbdev.nbdev_export()"
   ]
  },
  {
   "cell_type": "code",
   "execution_count": 5,
   "metadata": {},
   "outputs": [],
   "source": [
    "import openai\n",
    "import os \n",
    "from dotenv import load_dotenv\n",
    "from pathlib import Path"
   ]
  },
  {
   "cell_type": "code",
   "execution_count": 6,
   "metadata": {},
   "outputs": [],
   "source": [
    "#| export\n",
    "def load_api_key(path='../../.env'):\n",
    "    dotenv_path = Path(path)\n",
    "    load_dotenv(dotenv_path)\n",
    "    API_KEY = os.getenv('API_KEY')  \n",
    "    return API_KEY"
   ]
  },
  {
   "cell_type": "code",
   "execution_count": 7,
   "metadata": {},
   "outputs": [],
   "source": [
    "# each dict contains two key value pairs\n",
    "# 1. \"role\" : value\n",
    "# 2. \"content\": value\n",
    "# You can add additional dics in this format to increase the length of the message histroy\n",
    "def openai_chat(content:str, model:str = 'gpt-3.5-turbo') -> dict:\n",
    "    response = openai.ChatCompletion.create(\n",
    "        model='gpt-3.5-turbo',\n",
    "        messages=[\n",
    "            {\"role\": \"user\",\n",
    "            \"content\": f'{content} Rewrite this code using pandas vectorization. Respond only with Python code. No explanation or words'},\n",
    "        ])\n",
    "    return response"
   ]
  },
  {
   "cell_type": "code",
   "execution_count": 8,
   "metadata": {},
   "outputs": [],
   "source": [
    "openai.api_key = load_api_key()"
   ]
  },
  {
   "cell_type": "code",
   "execution_count": 9,
   "metadata": {},
   "outputs": [],
   "source": [
    "file_path = '../pandas_file.py'\n",
    "with open(file_path) as str_file:\n",
    "    file_content = str_file.read()"
   ]
  },
  {
   "cell_type": "code",
   "execution_count": 10,
   "metadata": {},
   "outputs": [
    {
     "data": {
      "text/plain": [
       "\"import pandas as pd\\nimport numpy as np\\n\\nimport time\\nstart = time.time()\\n# Set the random seed for reproducibility\\nnp.random.seed(42)\\n\\n# Create a DataFrame with random values\\ndf = pd.DataFrame(np.random.randn(1000000, 5), columns=['A', 'B', 'C', 'D', 'E'])\\n\\n# Iterate through the DataFrame and add 10 to each row of each column\\nfor index, row in df.iterrows():\\n    df.loc[index] = row + 10\\n\\nprint(df)\\nend = time.time()\\nprint(end - start)\""
      ]
     },
     "execution_count": 10,
     "metadata": {},
     "output_type": "execute_result"
    }
   ],
   "source": [
    "file_content"
   ]
  },
  {
   "cell_type": "code",
   "execution_count": 11,
   "metadata": {},
   "outputs": [],
   "source": [
    "response = openai_chat(content=file_content)"
   ]
  },
  {
   "cell_type": "code",
   "execution_count": null,
   "metadata": {},
   "outputs": [
    {
     "data": {
      "text/plain": [
       "<OpenAIObject chat.completion id=chatcmpl-7Xz2aqQBngthWP031Ac5TH3NnR4aR at 0x1388cc42090> JSON: {\n",
       "  \"id\": \"chatcmpl-7Xz2aqQBngthWP031Ac5TH3NnR4aR\",\n",
       "  \"object\": \"chat.completion\",\n",
       "  \"created\": 1688333820,\n",
       "  \"model\": \"gpt-3.5-turbo-0613\",\n",
       "  \"choices\": [\n",
       "    {\n",
       "      \"index\": 0,\n",
       "      \"message\": {\n",
       "        \"role\": \"assistant\",\n",
       "        \"content\": \"import pandas as pd\\nimport numpy as np\\n\\nimport time\\nstart = time.time()\\n# Set the random seed for reproducibility\\nnp.random.seed(42)\\n\\n# Create a DataFrame with random values\\ndf = pd.DataFrame(np.random.randn(1000000, 5), columns=['A', 'B', 'C', 'D', 'E'])\\n\\n# Add 10 to each value in the DataFrame\\ndf += 10\\n\\nprint(df)\\nend = time.time()\\nprint(end - start)\"\n",
       "      },\n",
       "      \"finish_reason\": \"stop\"\n",
       "    }\n",
       "  ],\n",
       "  \"usage\": {\n",
       "    \"prompt_tokens\": 147,\n",
       "    \"completion_tokens\": 102,\n",
       "    \"total_tokens\": 249\n",
       "  }\n",
       "}"
      ]
     },
     "execution_count": 102,
     "metadata": {},
     "output_type": "execute_result"
    }
   ],
   "source": [
    "response"
   ]
  },
  {
   "cell_type": "code",
   "execution_count": null,
   "metadata": {},
   "outputs": [],
   "source": [
    "optimized_code = response.choices[0].message.content"
   ]
  },
  {
   "cell_type": "code",
   "execution_count": null,
   "metadata": {},
   "outputs": [
    {
     "name": "stdout",
     "output_type": "stream",
     "text": [
      "import pandas as pd\n",
      "import numpy as np\n",
      "\n",
      "import time\n",
      "start = time.time()\n",
      "# Set the random seed for reproducibility\n",
      "np.random.seed(42)\n",
      "\n",
      "# Create a DataFrame with random values\n",
      "df = pd.DataFrame(np.random.randn(1000000, 5), columns=['A', 'B', 'C', 'D', 'E'])\n",
      "\n",
      "# Add 10 to each value in the DataFrame\n",
      "df += 10\n",
      "\n",
      "print(df)\n",
      "end = time.time()\n",
      "print(end - start)\n"
     ]
    }
   ],
   "source": [
    "print(optimized_code)"
   ]
  },
  {
   "cell_type": "code",
   "execution_count": null,
   "metadata": {},
   "outputs": [],
   "source": [
    "output_path = \"../output.py\"\n",
    "with open(output_path, 'w') as python_file:\n",
    "    python_file.write(optimized_code)"
   ]
  },
  {
   "cell_type": "code",
   "execution_count": null,
   "metadata": {},
   "outputs": [],
   "source": [
    "class parser:\n",
    "    def __init__(self, file_path) -> None:\n",
    "        pass\n",
    "\n",
    "    '''\n",
    "    Check the file imports pandas (otherwise no need to go through it)\n",
    "    return f\"no pandas import in file. If you think this is a bug email: {email}\"\n",
    "    '''\n",
    "    def check_for_pandas():\n",
    "        pass\n",
    "\n",
    "    def read_file(self):\n",
    "        with open(file_path) as str_file:\n",
    "            print(my_file.read())\n",
    "        return \n",
    "\n",
    "    def write_file(self):\n",
    "        pass"
   ]
  },
  {
   "cell_type": "code",
   "execution_count": null,
   "metadata": {},
   "outputs": [],
   "source": []
  }
 ],
 "metadata": {
  "kernelspec": {
   "display_name": "python3",
   "language": "python",
   "name": "python3"
  },
  "language_info": {
   "codemirror_mode": {
    "name": "ipython",
    "version": 3
   },
   "file_extension": ".py",
   "mimetype": "text/x-python",
   "name": "python",
   "nbconvert_exporter": "python",
   "pygments_lexer": "ipython3",
   "version": "3.11.3"
  }
 },
 "nbformat": 4,
 "nbformat_minor": 4
}
